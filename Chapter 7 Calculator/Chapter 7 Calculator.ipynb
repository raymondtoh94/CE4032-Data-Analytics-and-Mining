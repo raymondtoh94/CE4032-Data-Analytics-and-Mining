{
 "cells": [
  {
   "cell_type": "code",
   "execution_count": 204,
   "metadata": {},
   "outputs": [],
   "source": [
    "import numpy as np"
   ]
  },
  {
   "cell_type": "markdown",
   "metadata": {},
   "source": [
    "### Similarity Matrix Data Point"
   ]
  },
  {
   "cell_type": "code",
   "execution_count": 225,
   "metadata": {},
   "outputs": [],
   "source": [
    "# label=['x1','x2','x3','x4','x5']\n",
    "# label=['x1','x2','x3','x4','x5','x6']\n",
    "# label=['x1','x2','x3','x4','x5','x6','x7']\n",
    "label=['x1','x2','x3','x4','x5','x6','x7','x8']\n",
    "\n",
    "x1 = [0,25,72,13,50,52,65,5]\n",
    "x2 = [25,0,37,18,25,17,10,20]\n",
    "x3 = [72,37,0,25,2,4,53,41]\n",
    "x4 = [13,18,25,0,13,17,52,2]\n",
    "x5 = [50,25,2,13,0,2,45,25]\n",
    "x6 = [52,17,4,17,2,0]\n",
    "x7 = [65,10,53,52,45,29,0]\n",
    "x8 = [5,20,41,2,25,59,58,0]"
   ]
  },
  {
   "cell_type": "markdown",
   "metadata": {},
   "source": [
    "### SNN/JP Similarity Matrix"
   ]
  },
  {
   "cell_type": "code",
   "execution_count": 226,
   "metadata": {},
   "outputs": [
    {
     "data": {
      "text/plain": [
       "{'x1': ['x8', 'x4', 'x2', 'x5'],\n",
       " 'x2': ['x7', 'x6', 'x4', 'x8'],\n",
       " 'x3': ['x5', 'x6', 'x4', 'x2'],\n",
       " 'x4': ['x8', 'x1', 'x5', 'x6'],\n",
       " 'x5': ['x3', 'x6', 'x4', 'x2'],\n",
       " 'x6': ['x5', 'x3', 'x2', 'x4'],\n",
       " 'x7': ['x2', 'x6', 'x5', 'x4'],\n",
       " 'x8': ['x4', 'x1', 'x2', 'x5']}"
      ]
     },
     "execution_count": 226,
     "metadata": {},
     "output_type": "execute_result"
    }
   ],
   "source": [
    "data = {}\n",
    "\n",
    "k=4\n",
    "\n",
    "#Either SNN or JP\n",
    "METHOD = 'jp'\n",
    "\n",
    "x1=sorted(zip(x1,label), reverse=False)[1:k+1]\n",
    "x2=sorted(zip(x2,label), reverse=False)[1:k+1]\n",
    "x3=sorted(zip(x3,label), reverse=False)[1:k+1]\n",
    "x4=sorted(zip(x4,label), reverse=False)[1:k+1]\n",
    "x5=sorted(zip(x5,label), reverse=False)[1:k+1]\n",
    "x6=sorted(zip(x6,label), reverse=False)[1:k+1]\n",
    "x7=sorted(zip(x7,label), reverse=False)[1:k+1]\n",
    "x8=sorted(zip(x8,label), reverse=False)[1:k+1]\n",
    "x1 = [i[1] for i in x1]\n",
    "x2 = [i[1] for i in x2]\n",
    "x3 = [i[1] for i in x3]\n",
    "x4 = [i[1] for i in x4]\n",
    "x5 = [i[1] for i in x5]\n",
    "x6 = [i[1] for i in x6]\n",
    "x7 = [i[1] for i in x7]\n",
    "x8 = [i[1] for i in x8]\n",
    "data['x1']=x1\n",
    "data['x2']=x2\n",
    "data['x3']=x3\n",
    "data['x4']=x4\n",
    "data['x5']=x5\n",
    "data['x6']=x6\n",
    "data['x7']=x7\n",
    "data['x8']=x8\n",
    "data"
   ]
  },
  {
   "cell_type": "code",
   "execution_count": 223,
   "metadata": {},
   "outputs": [],
   "source": [
    "result = []\n",
    "\n",
    "for key1,item1 in data.items():\n",
    "    test = []\n",
    "    for key2,item2 in data.items():\n",
    "        if METHOD.lower() == 'snn':\n",
    "            test.append(len(set(item1)&set(item2)))\n",
    "        elif METHOD.lower() == 'jp':\n",
    "            if key1 in item2 and key2 in item1:\n",
    "                test.append(len(set(item1)&set(item2)))\n",
    "            else:\n",
    "                test.append(0)\n",
    "    result.append(test)"
   ]
  },
  {
   "cell_type": "code",
   "execution_count": 224,
   "metadata": {},
   "outputs": [
    {
     "data": {
      "text/plain": [
       "[[0, 0, 0, 2, 0, 0, 0, 3],\n",
       " [0, 0, 0, 0, 0, 1, 2, 1],\n",
       " [0, 0, 0, 0, 3, 3, 0, 0],\n",
       " [2, 0, 0, 0, 1, 1, 0, 2],\n",
       " [0, 0, 3, 1, 0, 3, 0, 0],\n",
       " [0, 1, 3, 1, 3, 0, 0, 0],\n",
       " [0, 2, 0, 0, 0, 0, 0, 0],\n",
       " [3, 1, 0, 2, 0, 0, 0, 0]]"
      ]
     },
     "execution_count": 224,
     "metadata": {},
     "output_type": "execute_result"
    }
   ],
   "source": [
    "result"
   ]
  },
  {
   "cell_type": "code",
   "execution_count": null,
   "metadata": {},
   "outputs": [],
   "source": []
  }
 ],
 "metadata": {
  "kernelspec": {
   "display_name": "Python 3",
   "language": "python",
   "name": "python3"
  },
  "language_info": {
   "codemirror_mode": {
    "name": "ipython",
    "version": 3
   },
   "file_extension": ".py",
   "mimetype": "text/x-python",
   "name": "python",
   "nbconvert_exporter": "python",
   "pygments_lexer": "ipython3",
   "version": "3.7.6"
  }
 },
 "nbformat": 4,
 "nbformat_minor": 4
}
