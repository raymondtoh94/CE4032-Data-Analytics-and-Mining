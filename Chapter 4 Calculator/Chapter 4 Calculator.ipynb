{
 "cells": [
  {
   "cell_type": "code",
   "execution_count": 237,
   "metadata": {},
   "outputs": [],
   "source": [
    "import numpy as np\n",
    "import pandas as pd\n",
    "from scipy import stats\n",
    "import statistics \n",
    "from itertools import islice "
   ]
  },
  {
   "cell_type": "markdown",
   "metadata": {},
   "source": [
    "## GINI Index Calculation"
   ]
  },
  {
   "cell_type": "code",
   "execution_count": 329,
   "metadata": {},
   "outputs": [],
   "source": [
    "def ginisingle(c1,c2):\n",
    "    return 1-(np.square(c1/(c1+c2))+np.square(c2/(c1+c2)))\n",
    "\n",
    "def ginitotal(c1,c2):\n",
    "    gini = ginisingle(c1,c2)\n",
    "    result = 0\n",
    "    \n",
    "    total = np.sum(c1)+np.sum(c2)\n",
    "    \n",
    "    for i in range(len(gini)):\n",
    "        result = result + ((c1[i]+c2[i])/total*gini[i])\n",
    "    \n",
    "    return result"
   ]
  },
  {
   "cell_type": "code",
   "execution_count": 330,
   "metadata": {},
   "outputs": [
    {
     "name": "stdout",
     "output_type": "stream",
     "text": [
      "Total Gini = 0.49\n"
     ]
    }
   ],
   "source": [
    "c1 = np.array([3,8])\n",
    "c2 = np.array([5,8])\n",
    "\n",
    "result = ginitotal(c1,c2)\n",
    "print(f\"Total Gini = {result:.2f}\")"
   ]
  },
  {
   "cell_type": "markdown",
   "metadata": {},
   "source": [
    "## Entropy"
   ]
  },
  {
   "cell_type": "code",
   "execution_count": 327,
   "metadata": {},
   "outputs": [],
   "source": [
    "def entropy_info(feature):\n",
    "    fyes=feature[0]/np.sum(feature)\n",
    "    fno=feature[1]/np.sum(feature)\n",
    "    entropy = -(fyes*np.log2(fyes) + fno*np.log2(fno))\n",
    "    if pd.isna(entropy):\n",
    "        return 0\n",
    "    return entropy\n",
    "\n",
    "def totalentropy(c1,c2):\n",
    "    en_c1 = entropy_info(c1)\n",
    "    en_c2 = entropy_info(c2)\n",
    "    en_c3 = entropy_info(c3)\n",
    "    en_c4 = entropy_info(c4)\n",
    "#     en_c5 = entropy_info(c5)\n",
    "    total_objects = np.sum(c1) + np.sum(c2) #+ np.sum(c3) + np.sum(c4) + np.sum(c5)\n",
    "    \n",
    "    result = np.sum(c1)/total_objects*en_c1 + np.sum(c2)/total_objects*en_c2 #+ np.sum(c3)/total_objects*en_c3 + np.sum(c4)/total_objects*en_c4 + np.sum(c5)/total_objects*en_c5\n",
    "    return result\n",
    "\n",
    "def gain(entropy_info, totalentropy):\n",
    "    return entropy_info - totalentropy"
   ]
  },
  {
   "cell_type": "code",
   "execution_count": 328,
   "metadata": {},
   "outputs": [
    {
     "name": "stdout",
     "output_type": "stream",
     "text": [
      "entropy_info = 0.954\n",
      "totalentropy = 0.607\n",
      "gain = 0.348\n"
     ]
    },
    {
     "name": "stderr",
     "output_type": "stream",
     "text": [
      "C:\\ProgramData\\Anaconda3\\lib\\site-packages\\ipykernel_launcher.py:4: RuntimeWarning: divide by zero encountered in log2\n",
      "  after removing the cwd from sys.path.\n",
      "C:\\ProgramData\\Anaconda3\\lib\\site-packages\\ipykernel_launcher.py:4: RuntimeWarning: invalid value encountered in double_scalars\n",
      "  after removing the cwd from sys.path.\n"
     ]
    }
   ],
   "source": [
    "feature = np.array([5,3]) #number of YES, number of NO in a class\n",
    "\n",
    "c1 = np.array([3,2]) #number of YES, number of NO in a objects of attributes\n",
    "c2 = np.array([0,3]) #number of YES, number of NO in a objects of attributes\n",
    "c3 = np.array([2,2]) #number of YES, number of NO in a objects of attributes\n",
    "c4 = np.array([1,3]) #number of YES, number of NO in a objects of attributes\n",
    "# c5 = np.array([5,3]) #number of YES, number of NO in a objects of attributes\n",
    "\n",
    "entropy = entropy_info(feature)\n",
    "tentropy = totalentropy(c1,c2)\n",
    "g = gain(entropy, tentropy)\n",
    "\n",
    "print(f\"entropy_info = {entropy:.3f}\")\n",
    "print(f\"totalentropy = {tentropy:.3f}\")\n",
    "print(f\"gain = {g:.3f}\")"
   ]
  },
  {
   "cell_type": "markdown",
   "metadata": {},
   "source": [
    "## Error Computing"
   ]
  },
  {
   "cell_type": "code",
   "execution_count": 319,
   "metadata": {},
   "outputs": [],
   "source": [
    "def errorCal(c1,c2):\n",
    "    error_c1 = c1/(c1+c2)\n",
    "    error_c2 = c2/(c1+c2)\n",
    "    print(error_c1,error_c2)\n",
    "    \n",
    "    \n",
    "    return float(1 - np.maximum(error_c1,error_c2))"
   ]
  },
  {
   "cell_type": "code",
   "execution_count": 320,
   "metadata": {},
   "outputs": [
    {
     "name": "stdout",
     "output_type": "stream",
     "text": [
      "[0.6 0.4 0.2] [0.4 0.6 0.8]\n"
     ]
    },
    {
     "ename": "TypeError",
     "evalue": "only size-1 arrays can be converted to Python scalars",
     "output_type": "error",
     "traceback": [
      "\u001b[1;31m---------------------------------------------------------------------------\u001b[0m",
      "\u001b[1;31mTypeError\u001b[0m                                 Traceback (most recent call last)",
      "\u001b[1;32m<ipython-input-320-6c215926cdbf>\u001b[0m in \u001b[0;36m<module>\u001b[1;34m\u001b[0m\n\u001b[0;32m      2\u001b[0m \u001b[0mc2\u001b[0m \u001b[1;33m=\u001b[0m \u001b[0mnp\u001b[0m\u001b[1;33m.\u001b[0m\u001b[0marray\u001b[0m\u001b[1;33m(\u001b[0m\u001b[1;33m[\u001b[0m\u001b[1;36m4\u001b[0m\u001b[1;33m,\u001b[0m\u001b[1;36m6\u001b[0m\u001b[1;33m,\u001b[0m\u001b[1;36m8\u001b[0m\u001b[1;33m]\u001b[0m\u001b[1;33m)\u001b[0m\u001b[1;33m\u001b[0m\u001b[1;33m\u001b[0m\u001b[0m\n\u001b[0;32m      3\u001b[0m \u001b[1;33m\u001b[0m\u001b[0m\n\u001b[1;32m----> 4\u001b[1;33m \u001b[0merrorCal\u001b[0m \u001b[1;33m=\u001b[0m \u001b[0merrorCal\u001b[0m\u001b[1;33m(\u001b[0m\u001b[0mc1\u001b[0m\u001b[1;33m,\u001b[0m\u001b[0mc2\u001b[0m\u001b[1;33m)\u001b[0m\u001b[1;33m\u001b[0m\u001b[1;33m\u001b[0m\u001b[0m\n\u001b[0m\u001b[0;32m      5\u001b[0m \u001b[0mprint\u001b[0m\u001b[1;33m(\u001b[0m\u001b[1;34mf\"error = {errorCal:.2f}\"\u001b[0m\u001b[1;33m)\u001b[0m\u001b[1;33m\u001b[0m\u001b[1;33m\u001b[0m\u001b[0m\n",
      "\u001b[1;32m<ipython-input-319-dce5730d2bdf>\u001b[0m in \u001b[0;36merrorCal\u001b[1;34m(c1, c2)\u001b[0m\n\u001b[0;32m      3\u001b[0m     \u001b[0merror_c2\u001b[0m \u001b[1;33m=\u001b[0m \u001b[0mc2\u001b[0m\u001b[1;33m/\u001b[0m\u001b[1;33m(\u001b[0m\u001b[0mc1\u001b[0m\u001b[1;33m+\u001b[0m\u001b[0mc2\u001b[0m\u001b[1;33m)\u001b[0m\u001b[1;33m\u001b[0m\u001b[1;33m\u001b[0m\u001b[0m\n\u001b[0;32m      4\u001b[0m     \u001b[0mprint\u001b[0m\u001b[1;33m(\u001b[0m\u001b[0merror_c1\u001b[0m\u001b[1;33m,\u001b[0m\u001b[0merror_c2\u001b[0m\u001b[1;33m)\u001b[0m\u001b[1;33m\u001b[0m\u001b[1;33m\u001b[0m\u001b[0m\n\u001b[1;32m----> 5\u001b[1;33m     \u001b[1;32mreturn\u001b[0m \u001b[0mfloat\u001b[0m\u001b[1;33m(\u001b[0m\u001b[1;36m1\u001b[0m \u001b[1;33m-\u001b[0m \u001b[0mnp\u001b[0m\u001b[1;33m.\u001b[0m\u001b[0mmaximum\u001b[0m\u001b[1;33m(\u001b[0m\u001b[0merror_c1\u001b[0m\u001b[1;33m,\u001b[0m\u001b[0merror_c2\u001b[0m\u001b[1;33m)\u001b[0m\u001b[1;33m)\u001b[0m\u001b[1;33m\u001b[0m\u001b[1;33m\u001b[0m\u001b[0m\n\u001b[0m",
      "\u001b[1;31mTypeError\u001b[0m: only size-1 arrays can be converted to Python scalars"
     ]
    }
   ],
   "source": [
    "c1 = np.array([6,4,2])\n",
    "c2 = np.array([4,6,8])\n",
    "\n",
    "errorCal = errorCal(c1,c2)\n",
    "print(f\"error = {errorCal:.2f}\")"
   ]
  },
  {
   "cell_type": "code",
   "execution_count": null,
   "metadata": {},
   "outputs": [],
   "source": []
  },
  {
   "cell_type": "code",
   "execution_count": null,
   "metadata": {},
   "outputs": [],
   "source": []
  },
  {
   "cell_type": "code",
   "execution_count": null,
   "metadata": {},
   "outputs": [],
   "source": []
  }
 ],
 "metadata": {
  "kernelspec": {
   "display_name": "Python 3",
   "language": "python",
   "name": "python3"
  },
  "language_info": {
   "codemirror_mode": {
    "name": "ipython",
    "version": 3
   },
   "file_extension": ".py",
   "mimetype": "text/x-python",
   "name": "python",
   "nbconvert_exporter": "python",
   "pygments_lexer": "ipython3",
   "version": "3.7.6"
  }
 },
 "nbformat": 4,
 "nbformat_minor": 4
}
