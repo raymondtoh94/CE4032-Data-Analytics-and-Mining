{
 "cells": [
  {
   "cell_type": "code",
   "execution_count": 88,
   "metadata": {},
   "outputs": [],
   "source": [
    "import numpy as np\n",
    "import pandas as pd\n",
    "from scipy import stats\n",
    "import statistics "
   ]
  },
  {
   "cell_type": "markdown",
   "metadata": {},
   "source": [
    "# Naive Bayes Classifier"
   ]
  },
  {
   "cell_type": "markdown",
   "metadata": {},
   "source": [
    "### Continuous Features ONLY"
   ]
  },
  {
   "cell_type": "code",
   "execution_count": 89,
   "metadata": {},
   "outputs": [
    {
     "name": "stdout",
     "output_type": "stream",
     "text": [
      "mean = 110.0, var = 2975.00, prob = 0.0072\n"
     ]
    }
   ],
   "source": [
    "#only the class of NO or YES!\n",
    "data = np.array([125, 100, 70,120, 60, 220, 75])\n",
    "x = 120\n",
    "\n",
    "def mean_std(data, x):\n",
    "    mean = np.sum(data)/len(data)\n",
    "    std = statistics.stdev(data)\n",
    "    var = np.square(std)\n",
    "    \n",
    "    prob = np.exp(-(np.square((x-mean))/(2*var))) / np.sqrt(2*np.pi*var)\n",
    "    \n",
    "    return mean, var, prob\n",
    "\n",
    "mean, var, prob = mean_std(data, x)\n",
    "\n",
    "\n",
    "print(f\"mean = {mean}, var = {var:.2f}, prob = {prob:.4f}\")"
   ]
  },
  {
   "cell_type": "markdown",
   "metadata": {},
   "source": [
    "# Support Vector Machines (SVM)"
   ]
  },
  {
   "cell_type": "code",
   "execution_count": 93,
   "metadata": {},
   "outputs": [
    {
     "name": "stdout",
     "output_type": "stream",
     "text": [
      "w1 = [0.]\n",
      "w2 = [1.]\n",
      "b = [-2.]\n"
     ]
    }
   ],
   "source": [
    "# 2w1 + 2w2 + b = -1\n",
    "# 4w1 + 1w2 + b = -1\n",
    "# 3w1 + 3w2 + b = 1\n",
    "\n",
    "x = np.array([[1,1,1],\n",
    "             [4,1,1],\n",
    "             [3,3,1]])\n",
    "\n",
    "y = np.array([[-1,-1,1]]).T\n",
    "\n",
    "result = np.dot(np.linalg.inv(x),y)\n",
    "\n",
    "print(f\"w1 = {result[0]}\")\n",
    "print(f\"w2 = {result[1]}\")\n",
    "print(f\"b = {result[2]}\")"
   ]
  },
  {
   "cell_type": "markdown",
   "metadata": {},
   "source": [
    "# Instance Based Classifiers"
   ]
  },
  {
   "cell_type": "markdown",
   "metadata": {},
   "source": [
    "### Euclidean Distance"
   ]
  },
  {
   "cell_type": "code",
   "execution_count": 91,
   "metadata": {},
   "outputs": [
    {
     "name": "stdout",
     "output_type": "stream",
     "text": [
      "5.0990195135927845\n"
     ]
    }
   ],
   "source": [
    "#For Similiarity and Dissimiliarity using Euclidean Distance\n",
    "p = np.array([0,2])\n",
    "q = np.array([5,1])\n",
    "\n",
    "def eu_dist(p, q):\n",
    "    return np.sqrt(np.sum(np.square(p-q)))\n",
    "\n",
    "dist = eu_dist(p,q)\n",
    "print(dist)"
   ]
  },
  {
   "cell_type": "markdown",
   "metadata": {},
   "source": [
    "### Weight Factor"
   ]
  },
  {
   "cell_type": "code",
   "execution_count": 92,
   "metadata": {},
   "outputs": [
    {
     "name": "stdout",
     "output_type": "stream",
     "text": [
      "[0.03846154]\n"
     ]
    }
   ],
   "source": [
    "d = np.array([5.0990195135927845])\n",
    "\n",
    "def dist_weight(d):\n",
    "    return 1/np.square(d)\n",
    "\n",
    "weight = dist_weight(d)\n",
    "print(weight)"
   ]
  }
 ],
 "metadata": {
  "kernelspec": {
   "display_name": "Python 3",
   "language": "python",
   "name": "python3"
  },
  "language_info": {
   "codemirror_mode": {
    "name": "ipython",
    "version": 3
   },
   "file_extension": ".py",
   "mimetype": "text/x-python",
   "name": "python",
   "nbconvert_exporter": "python",
   "pygments_lexer": "ipython3",
   "version": "3.7.6"
  }
 },
 "nbformat": 4,
 "nbformat_minor": 4
}
