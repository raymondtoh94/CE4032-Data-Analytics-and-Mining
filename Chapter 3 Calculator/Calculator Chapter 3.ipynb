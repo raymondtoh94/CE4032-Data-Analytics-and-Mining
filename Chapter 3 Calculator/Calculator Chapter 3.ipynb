{
 "cells": [
  {
   "cell_type": "code",
   "execution_count": 1,
   "metadata": {},
   "outputs": [],
   "source": [
    "import numpy as np\n",
    "import pandas as pd\n",
    "from scipy import stats\n",
    "import statistics "
   ]
  },
  {
   "cell_type": "code",
   "execution_count": 2,
   "metadata": {},
   "outputs": [
    {
     "name": "stdout",
     "output_type": "stream",
     "text": [
      "[11, 11, 22, 22]\n"
     ]
    }
   ],
   "source": [
    "question = \"11 11 22 22\"\n",
    "\n",
    "def convert(question):\n",
    "    return [int(i) for i in question.split(\" \")]\n",
    "\n",
    "print(convert(question))"
   ]
  },
  {
   "cell_type": "code",
   "execution_count": 9,
   "metadata": {},
   "outputs": [],
   "source": [
    "def my_stat_calculator(ds):\n",
    "    ds = sorted(ds)\n",
    "    \n",
    "    mode = float(stats.mode(ds)[0][0])\n",
    "    std = statistics.stdev(ds)\n",
    "    q10,Q1,Q2,Q3,q90 = np.percentile(ds , [10,25,50,75,90], interpolation=\"midpoint\")\n",
    "    IQR = Q3 - Q1\n",
    "    lower_range = Q1 - (1.5 * IQR)\n",
    "    upper_range = Q3 + (1.5 * IQR)\n",
    "    mean = float(np.sum(ds)/len(ds))\n",
    "    dsmin = float(np.min(ds))\n",
    "    dsmax = float(np.max(ds))\n",
    "    count = len(ds)\n",
    "    var = statistics.variance(ds)\n",
    "    \n",
    "    print(ds)\n",
    "    print(f\"count = {count}\")\n",
    "    print(f\"mean = {mean:.6f}\")\n",
    "    print(f\"std = {std:.6f}\")\n",
    "    print(f\"min = {dsmin:.6f}\")\n",
    "    print(f\"25% = {Q1:.6f}\")\n",
    "    print(f\"50% = {Q2:.6f}\")\n",
    "    print(f\"75% = {Q3:.6f}\")\n",
    "    print(f\"max = {dsmax:.6f}\")\n",
    "    print(f\"IQR = {IQR:.6f}\")\n",
    "    print(f\"mode = {mode:.6f}\")\n",
    "    print(f\"var = {var:.6f}\")\n",
    "    print(f\"lower_range = {lower_range:.6f}\")\n",
    "    print(f\"upper_range = {upper_range:.6f}\")\n",
    "    print(f\"10% = {q10:.6f}\")\n",
    "    print(f\"90% = {q90:.6f}\")"
   ]
  },
  {
   "cell_type": "code",
   "execution_count": 10,
   "metadata": {},
   "outputs": [
    {
     "name": "stdout",
     "output_type": "stream",
     "text": [
      "[1, 6, 8, 15, 23]\n",
      "count = 5\n",
      "mean = 10.600000\n",
      "std = 8.544004\n",
      "min = 1.000000\n",
      "25% = 6.000000\n",
      "50% = 8.000000\n",
      "75% = 15.000000\n",
      "max = 23.000000\n",
      "IQR = 9.000000\n",
      "mode = 1.000000\n",
      "var = 73.000000\n",
      "lower_range = -7.500000\n",
      "upper_range = 28.500000\n",
      "10% = 3.500000\n",
      "90% = 19.000000\n"
     ]
    }
   ],
   "source": [
    "x = np.array([1, 23, 15, 6, 8])\n",
    "# y = np.array([146,155,178,146,208,147,202,215,184,208,206,169,182,127,149,178,161,187,176,145,154,153,137,125,1,1,1])\n",
    "# z = np.array([0.9,1.1,1.2,1.2])\n",
    "\n",
    "# test = x-y\n",
    "my_stat_calculator(x)"
   ]
  },
  {
   "cell_type": "markdown",
   "metadata": {},
   "source": [
    "# FOR MULTIPLE CALCULATION"
   ]
  },
  {
   "cell_type": "code",
   "execution_count": 11,
   "metadata": {},
   "outputs": [
    {
     "name": "stdout",
     "output_type": "stream",
     "text": [
      "25% and 75% is wrong\n"
     ]
    },
    {
     "data": {
      "text/html": [
       "<div>\n",
       "<style scoped>\n",
       "    .dataframe tbody tr th:only-of-type {\n",
       "        vertical-align: middle;\n",
       "    }\n",
       "\n",
       "    .dataframe tbody tr th {\n",
       "        vertical-align: top;\n",
       "    }\n",
       "\n",
       "    .dataframe thead th {\n",
       "        text-align: right;\n",
       "    }\n",
       "</style>\n",
       "<table border=\"1\" class=\"dataframe\">\n",
       "  <thead>\n",
       "    <tr style=\"text-align: right;\">\n",
       "      <th></th>\n",
       "      <th>x</th>\n",
       "    </tr>\n",
       "  </thead>\n",
       "  <tbody>\n",
       "    <tr>\n",
       "      <th>count</th>\n",
       "      <td>5.000000</td>\n",
       "    </tr>\n",
       "    <tr>\n",
       "      <th>mean</th>\n",
       "      <td>10.600000</td>\n",
       "    </tr>\n",
       "    <tr>\n",
       "      <th>std</th>\n",
       "      <td>8.561542</td>\n",
       "    </tr>\n",
       "    <tr>\n",
       "      <th>min</th>\n",
       "      <td>1.000000</td>\n",
       "    </tr>\n",
       "    <tr>\n",
       "      <th>25%</th>\n",
       "      <td>6.000000</td>\n",
       "    </tr>\n",
       "    <tr>\n",
       "      <th>50%</th>\n",
       "      <td>8.000000</td>\n",
       "    </tr>\n",
       "    <tr>\n",
       "      <th>75%</th>\n",
       "      <td>15.000000</td>\n",
       "    </tr>\n",
       "    <tr>\n",
       "      <th>max</th>\n",
       "      <td>23.000000</td>\n",
       "    </tr>\n",
       "  </tbody>\n",
       "</table>\n",
       "</div>"
      ],
      "text/plain": [
       "               x\n",
       "count   5.000000\n",
       "mean   10.600000\n",
       "std     8.561542\n",
       "min     1.000000\n",
       "25%     6.000000\n",
       "50%     8.000000\n",
       "75%    15.000000\n",
       "max    23.000000"
      ]
     },
     "execution_count": 11,
     "metadata": {},
     "output_type": "execute_result"
    }
   ],
   "source": [
    "x = np.array([1,23,15,6,8])\n",
    "# y = np.array([146,155,178,146,208,147,202,215,184,208,206,169,182,127,149,178,161,187,176,145,154,153,137,125])\n",
    "# z = np.array([0.9,1.1,1.2,1.2])\n",
    "\n",
    "# test = x-y\n",
    "\n",
    "ds = pd.DataFrame()\n",
    "ds['x'] = x.tolist()\n",
    "# ds['y'] = y.tolist()\n",
    "# ds['z'] = z.tolist()\n",
    "print(\"25% and 75% is wrong\")\n",
    "ds.describe()"
   ]
  },
  {
   "cell_type": "markdown",
   "metadata": {},
   "source": [
    "## For Mode"
   ]
  },
  {
   "cell_type": "code",
   "execution_count": 6,
   "metadata": {},
   "outputs": [
    {
     "name": "stdout",
     "output_type": "stream",
     "text": [
      "Mode 0 = 1 with count of 1\n"
     ]
    }
   ],
   "source": [
    "result = stats.mode(ds)[0][0]\n",
    "for i in range(len(result)):\n",
    "    print(f\"Mode {i} = {result[i]} with count of {stats.mode(ds)[1][0][i]}\")"
   ]
  },
  {
   "cell_type": "markdown",
   "metadata": {},
   "source": [
    "## For Variance"
   ]
  },
  {
   "cell_type": "code",
   "execution_count": 7,
   "metadata": {},
   "outputs": [
    {
     "name": "stdout",
     "output_type": "stream",
     "text": [
      "Variance for x = 73.300\n"
     ]
    }
   ],
   "source": [
    "for i in ds:\n",
    "    print(f\"Variance for {i} = {statistics.variance(ds[i]):.3f}\")"
   ]
  },
  {
   "cell_type": "code",
   "execution_count": null,
   "metadata": {},
   "outputs": [],
   "source": []
  },
  {
   "cell_type": "code",
   "execution_count": null,
   "metadata": {},
   "outputs": [],
   "source": []
  },
  {
   "cell_type": "code",
   "execution_count": null,
   "metadata": {},
   "outputs": [],
   "source": []
  }
 ],
 "metadata": {
  "kernelspec": {
   "display_name": "Python 3",
   "language": "python",
   "name": "python3"
  },
  "language_info": {
   "codemirror_mode": {
    "name": "ipython",
    "version": 3
   },
   "file_extension": ".py",
   "mimetype": "text/x-python",
   "name": "python",
   "nbconvert_exporter": "python",
   "pygments_lexer": "ipython3",
   "version": "3.7.6"
  }
 },
 "nbformat": 4,
 "nbformat_minor": 4
}
